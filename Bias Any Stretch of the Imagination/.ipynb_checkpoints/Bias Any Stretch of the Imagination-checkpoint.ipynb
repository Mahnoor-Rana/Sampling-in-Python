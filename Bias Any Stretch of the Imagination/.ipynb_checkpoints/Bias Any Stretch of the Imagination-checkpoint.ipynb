{
 "cells": [
  {
   "cell_type": "markdown",
   "id": "999bbeda",
   "metadata": {},
   "source": [
    "Learn what sampling is and why it is so powerful. You’ll also learn about the problems caused by convenience sampling and the differences between true randomness and pseudo-randomness."
   ]
  },
  {
   "cell_type": "markdown",
   "id": "a7e0b0c7",
   "metadata": {},
   "source": [
    "## Simple sampling with pandas\n",
    "We'll be exploring song data from Spotify. Each row of this population dataset represents a song, and there are over 40,000 rows. Columns include the song name, the artists who performed it, the release year, and attributes of the song like its duration, tempo, and danceability. We'll start by looking at the durations."
   ]
  },
  {
   "cell_type": "code",
   "execution_count": 1,
   "id": "c98d7d18",
   "metadata": {},
   "outputs": [],
   "source": [
    "import pandas as pd \n",
    "import numpy as np \n",
    "import matplotlib.pyplot as plt\n",
    "import seaborn as sns"
   ]
  },
  {
   "cell_type": "code",
   "execution_count": 2,
   "id": "01d14e0a",
   "metadata": {},
   "outputs": [
    {
     "name": "stdout",
     "output_type": "stream",
     "text": [
      "Requirement already satisfied: pyarrow in c:\\users\\hp\\anaconda3\\lib\\site-packages (9.0.0)\n",
      "Requirement already satisfied: numpy>=1.16.6 in c:\\users\\hp\\anaconda3\\lib\\site-packages (from pyarrow) (1.21.5)\n",
      "Note: you may need to restart the kernel to use updated packages.\n"
     ]
    }
   ],
   "source": [
    "pip install pyarrow"
   ]
  },
  {
   "cell_type": "code",
   "execution_count": 3,
   "id": "05293557",
   "metadata": {},
   "outputs": [
    {
     "name": "stdout",
     "output_type": "stream",
     "text": [
      "       acousticness                                     artists  danceability  \\\n",
      "18405      0.120000                   ['Fabricantes De Lluvia']         0.187   \n",
      "27352      0.414000  ['Mos Def', 'Pharoahe Monch', 'Nate Dogg']         0.719   \n",
      "37205      0.063900                            ['Ansel Elgort']         0.765   \n",
      "20104      0.025400   ['Borgore', 'Waka Flocka Flame', 'Paige']         0.644   \n",
      "3089       0.124000            ['Lee Fields & The Expressions']         0.487   \n",
      "...             ...                                         ...           ...   \n",
      "25892      0.437000                              ['The Script']         0.605   \n",
      "16763      0.000817                                 ['Godhead']         0.580   \n",
      "21432      0.268000                      ['The Pussycat Dolls']         0.655   \n",
      "26767      0.204000                          ['Kendrick Lamar']         0.748   \n",
      "12422      0.000236                                ['Nonpoint']         0.577   \n",
      "\n",
      "       duration_ms  duration_minutes  energy  explicit  \\\n",
      "18405     247904.0          4.131733  0.0339       0.0   \n",
      "27352     239933.0          3.998883  0.8630       1.0   \n",
      "37205     191493.0          3.191550  0.6220       1.0   \n",
      "20104     254545.0          4.242417  0.9260       1.0   \n",
      "3089      246573.0          4.109550  0.4970       0.0   \n",
      "...            ...               ...     ...       ...   \n",
      "25892     241373.0          4.022883  0.6290       0.0   \n",
      "16763     258867.0          4.314450  0.8430       0.0   \n",
      "21432     207507.0          3.458450  0.5400       0.0   \n",
      "26767     208733.0          3.478883  0.7050       1.0   \n",
      "12422     206405.0          3.440083  0.8830       1.0   \n",
      "\n",
      "                           id  instrumentalness   key  liveness  loudness  \\\n",
      "18405  0uiqxkLv8bprabEd6OWnet          0.845000   1.0     0.934   -19.981   \n",
      "27352  3tC8SJpOwJhDg8WGG1NKGR          0.000005   5.0     0.147    -4.148   \n",
      "37205  2ZIZXWnU52s0C75sPYiwvh          0.000000   5.0     0.207    -5.292   \n",
      "20104  5YafRUAwbPTPVPK0hbr2bA          0.005360   1.0     0.186    -2.629   \n",
      "3089   1emxi7e5EWFsJmwSKTuUDH          0.167000   4.0     0.109    -5.776   \n",
      "...                       ...               ...   ...       ...       ...   \n",
      "25892  3nqqDo8CcCLke3ZoTgiOKf          0.000000  10.0     0.097    -5.051   \n",
      "16763  6DGK3Kp1lpYZzsfuZJ7ZlL          0.573000   2.0     0.074    -6.602   \n",
      "21432  4NjR63Up0uMkQBlKvlZd1l          0.000000   9.0     0.068    -6.482   \n",
      "26767  1EaKU4dMbesXXd3BrLCtYG          0.000000   4.0     0.246    -4.547   \n",
      "12422  1jv1Dfe0lS4c1Vql3n9Ssz          0.000282  10.0     0.287    -3.548   \n",
      "\n",
      "       mode                                        name  popularity  \\\n",
      "18405   1.0                                      Lluvia        60.0   \n",
      "27352   0.0                                       Oh No        56.0   \n",
      "37205   0.0                                   Supernova        70.0   \n",
      "20104   1.0  Wild Out (feat. Waka Flocka Flame & Paige)        48.0   \n",
      "3089    0.0                                  Honey Dove        50.0   \n",
      "...     ...                                         ...         ...   \n",
      "25892   1.0                  The Man Who Can't Be Moved        67.0   \n",
      "16763   1.0                                   Penetrate        39.0   \n",
      "21432   1.0                                   Stickwitu        63.0   \n",
      "26767   0.0                                    ELEMENT.        71.0   \n",
      "12422   0.0                          Bullet With a Name        62.0   \n",
      "\n",
      "      release_date  speechiness    tempo  valence    year  \n",
      "18405   2017-01-09       0.1260   87.628  0.00001  2017.0  \n",
      "27352   2002-01-01       0.4350   87.579  0.76500  2002.0  \n",
      "37205   2018-01-12       0.1010  140.077  0.67900  2018.0  \n",
      "20104   2013-10-15       0.0566  132.034  0.04000  2013.0  \n",
      "3089    2009-06-02       0.0640  160.317  0.19500  2009.0  \n",
      "...            ...          ...      ...      ...     ...  \n",
      "25892   2008-07-14       0.0279   99.894  0.30800  2008.0  \n",
      "16763   2001-01-01       0.0866  149.639  0.37600  2001.0  \n",
      "21432   2005-01-01       0.0516   79.983  0.43000  2005.0  \n",
      "26767   2017-04-14       0.4850  189.891  0.48300  2017.0  \n",
      "12422   2019-12-25       0.0898   91.024  0.68300  2019.0  \n",
      "\n",
      "[1000 rows x 20 columns]\n"
     ]
    }
   ],
   "source": [
    "spotify_population = pd.read_feather('spotify_2000_2020.feather')\n",
    "# Sample 1000 rows from spotify_population\n",
    "spotify_sample = spotify_population.sample(1000)\n",
    "\n",
    "# Print the sample\n",
    "print(spotify_sample)"
   ]
  },
  {
   "cell_type": "code",
   "execution_count": 4,
   "id": "44f37a23",
   "metadata": {},
   "outputs": [
    {
     "name": "stdout",
     "output_type": "stream",
     "text": [
      "3.8521519140899896\n",
      "3.9723137333333343\n"
     ]
    }
   ],
   "source": [
    "# Calculate the mean duration in mins from spotify_population\n",
    "mean_dur_pop = spotify_population[\"duration_minutes\"].mean()\n",
    "\n",
    "# Calculate the mean duration in mins from spotify_sample\n",
    "mean_dur_samp = spotify_sample[\"duration_minutes\"].mean()\n",
    "\n",
    "# Print the means\n",
    "print(mean_dur_pop)\n",
    "print(mean_dur_samp)"
   ]
  },
  {
   "cell_type": "markdown",
   "id": "b7e0eb3b",
   "metadata": {},
   "source": [
    "## Simple sampling and calculating with NumPy\n",
    "We can also use numpy to calculate parameters or statistics from a list or pandas Series.\n",
    "\n",
    "We'll be turning it up to eleven and looking at the loudness property of each song."
   ]
  },
  {
   "cell_type": "code",
   "execution_count": 5,
   "id": "e3cf429e",
   "metadata": {},
   "outputs": [
    {
     "name": "stdout",
     "output_type": "stream",
     "text": [
      "6538     -6.892\n",
      "20848    -5.551\n",
      "39620    -5.498\n",
      "14696    -4.326\n",
      "8122     -8.489\n",
      "          ...  \n",
      "31679    -6.243\n",
      "35347    -6.966\n",
      "29857   -10.175\n",
      "11915   -19.024\n",
      "3465     -9.729\n",
      "Name: loudness, Length: 100, dtype: float64\n"
     ]
    }
   ],
   "source": [
    "# Create a pandas Series from the loudness column of spotify_population\n",
    "loudness_pop = spotify_population['loudness']\n",
    "\n",
    "# Sample 100 values of loudness_pop\n",
    "loudness_samp = loudness_pop.sample(n=100)\n",
    "\n",
    "# Print the sample\n",
    "print(loudness_samp)"
   ]
  },
  {
   "cell_type": "code",
   "execution_count": 7,
   "id": "51cac1cc",
   "metadata": {},
   "outputs": [
    {
     "name": "stdout",
     "output_type": "stream",
     "text": [
      "-7.366856851353918\n",
      "-7.77276\n"
     ]
    }
   ],
   "source": [
    "# Calculate the mean of loudness_pop\n",
    "mean_loudness_pop = np.mean(loudness_pop)\n",
    "\n",
    "# Calculate the mean of loudness_samp\n",
    "mean_loudness_samp = np.mean(loudness_samp)\n",
    "\n",
    "# Print the means\n",
    "print(mean_loudness_pop)\n",
    "print(mean_loudness_samp)"
   ]
  },
  {
   "cell_type": "markdown",
   "id": "7978da76",
   "metadata": {},
   "source": [
    "## Are the findings from this sample generalizable?\n",
    "We just saw how convenience sampling—collecting data using the easiest method—can result in samples that aren't representative of the population. Equivalently, this means findings from the sample are not generalizable to the population. Visualizing the distributions of the population and the sample can help determine whether or not the sample is representative of the population.\n",
    "\n",
    "The Spotify dataset contains an acousticness column, which is a confidence measure from zero to one of whether the track was made with instruments that aren't plugged in. You'll compare the acousticness distribution of the total population of songs with a sample of those songs."
   ]
  },
  {
   "cell_type": "code",
   "execution_count": 8,
   "id": "bd46779b",
   "metadata": {},
   "outputs": [
    {
     "data": {
      "image/png": "[encoded data removed]",
      "text/plain": [
       "<Figure size 432x288 with 1 Axes>"
      ]
     },
     "metadata": {
      "needs_background": "light"
     },
     "output_type": "display_data"
    }
   ],
   "source": [
    "# Visualize the distribution of acousticness with a histogram\n",
    "spotify_population['acousticness'].hist(bins=np.arange(0, 1.01, 0.01))\n",
    "plt.show()"
   ]
  },
  {
   "cell_type": "markdown",
   "id": "729bc9c0",
   "metadata": {},
   "source": [
    "## Are these findings generalizable?\n",
    "Let's look at another sample to see if it is representative of the population. This time, we'll look at the duration_minutes column of the Spotify dataset, which contains the length of the song in minutes."
   ]
  },
  {
   "cell_type": "code",
   "execution_count": 12,
   "id": "d2d496dd",
   "metadata": {},
   "outputs": [
    {
     "data": {
      "image/png": "[encoded data removed]",
      "text/plain": [
       "<Figure size 432x288 with 1 Axes>"
      ]
     },
     "metadata": {
      "needs_background": "light"
     },
     "output_type": "display_data"
    }
   ],
   "source": [
    "# Visualize the distribution of duration_minutes as a histogram\n",
    "spotify_population['duration_minutes'].hist(bins=np.arange(0, 15.5, 0.5))\n",
    "plt.show()"
   ]
  },
  {
   "cell_type": "markdown",
   "id": "6d6bb9a5",
   "metadata": {},
   "source": [
    "## Generating random numbers\n",
    "We've used .sample() to generate pseudo-random numbers from a set of values in a DataFrame. A related task is to generate random numbers that follow a statistical distribution, like the uniform distribution or the normal distribution.\n",
    "\n",
    "Each random number generation function has distribution-specific arguments and an argument for specifying the number of random numbers to generate."
   ]
  },
  {
   "cell_type": "code",
   "execution_count": 14,
   "id": "f3aeca18",
   "metadata": {},
   "outputs": [
    {
     "name": "stdout",
     "output_type": "stream",
     "text": [
      "[-0.86521069  0.1264846   0.08571215 ...  0.7100354  -2.1182862\n",
      "  1.7509081 ]\n"
     ]
    }
   ],
   "source": [
    "# Generate random numbers from a Uniform(-3, 3)\n",
    "uniforms = np.random.uniform(high= 3,low = -3, size = 5000)\n",
    "\n",
    "# Print uniforms\n",
    "print(uniforms)"
   ]
  },
  {
   "cell_type": "code",
   "execution_count": 15,
   "id": "012bcad4",
   "metadata": {},
   "outputs": [
    {
     "name": "stdout",
     "output_type": "stream",
     "text": [
      "[8.85880779 5.30822046 7.49715783 ... 5.84311442 7.14807436 4.60815249]\n"
     ]
    }
   ],
   "source": [
    "# Generate random numbers from a Uniform(-3, 3)\n",
    "uniforms = np.random.uniform(low=-3, high=3, size=5000)\n",
    "\n",
    "# Generate random numbers from a Normal(5, 2)\n",
    "normals = np.random.normal(loc = 5,scale = 2, size = 5000)\n",
    "\n",
    "# Print normals\n",
    "print(normals)# Generate random numbers from a Uniform(-3, 3)\n",
    "\n"
   ]
  },
  {
   "cell_type": "code",
   "execution_count": 16,
   "id": "e4ae9094",
   "metadata": {},
   "outputs": [
    {
     "data": {
      "image/png": "[encoded data removed]",
      "text/plain": [
       "<Figure size 432x288 with 1 Axes>"
      ]
     },
     "metadata": {
      "needs_background": "light"
     },
     "output_type": "display_data"
    }
   ],
   "source": [
    "# Generate random numbers from a Uniform(-3, 3)\n",
    "uniforms = np.random.uniform(low=-3, high=3, size=5000)\n",
    "\n",
    "# Plot a histogram of uniform values, binwidth 0.25\n",
    "plt.hist(uniforms, bins=np.arange(-3, 3.25, 0.25))\n",
    "plt.show()"
   ]
  },
  {
   "cell_type": "code",
   "execution_count": 17,
   "id": "b603828c",
   "metadata": {},
   "outputs": [
    {
     "data": {
      "image/png": "[encoded data removed]",
      "text/plain": [
       "<Figure size 432x288 with 1 Axes>"
      ]
     },
     "metadata": {
      "needs_background": "light"
     },
     "output_type": "display_data"
    }
   ],
   "source": [
    "# Plot a histogram of normal values, binwidth 0.5\n",
    "plt.hist(normals, bins=np.arange(-2, 13.5, 0.5))\n",
    "plt.show()"
   ]
  }
 ],
 "metadata": {
  "kernelspec": {
   "display_name": "Python 3 (ipykernel)",
   "language": "python",
   "name": "python3"
  },
  "language_info": {
   "codemirror_mode": {
    "name": "ipython",
    "version": 3
   },
   "file_extension": ".py",
   "mimetype": "text/x-python",
   "name": "python",
   "nbconvert_exporter": "python",
   "pygments_lexer": "ipython3",
   "version": "3.9.12"
  }
 },
 "nbformat": 4,
 "nbformat_minor": 5
}
