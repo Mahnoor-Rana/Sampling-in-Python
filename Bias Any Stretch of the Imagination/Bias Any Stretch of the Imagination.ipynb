{
 "cells": [
  {
   "cell_type": "markdown",
   "id": "999bbeda",
   "metadata": {},
   "source": [
    "Learn what sampling is and why it is so powerful. You’ll also learn about the problems caused by convenience sampling and the differences between true randomness and pseudo-randomness."
   ]
  },
  {
   "cell_type": "markdown",
   "id": "a7e0b0c7",
   "metadata": {},
   "source": [
    "## Simple sampling with pandas\n",
    "We'll be exploring song data from Spotify. Each row of this population dataset represents a song, and there are over 40,000 rows. Columns include the song name, the artists who performed it, the release year, and attributes of the song like its duration, tempo, and danceability. We'll start by looking at the durations."
   ]
  },
  {
   "cell_type": "code",
   "execution_count": 1,
   "id": "c98d7d18",
   "metadata": {},
   "outputs": [],
   "source": [
    "import pandas as pd \n",
    "import numpy as np \n",
    "import matplotlib.pyplot as plt\n",
    "import seaborn as sns"
   ]
  },
  {
   "cell_type": "code",
   "execution_count": 6,
   "id": "01d14e0a",
   "metadata": {},
   "outputs": [
    {
     "name": "stdout",
     "output_type": "stream",
     "text": [
      "Collecting pyarrow\n",
      "  Downloading pyarrow-9.0.0-cp39-cp39-win_amd64.whl (19.6 MB)\n",
      "Requirement already satisfied: numpy>=1.16.6 in c:\\users\\hp\\anaconda3\\lib\\site-packages (from pyarrow) (1.21.5)\n",
      "Installing collected packages: pyarrow\n",
      "Successfully installed pyarrow-9.0.0\n",
      "Note: you may need to restart the kernel to use updated packages.\n"
     ]
    }
   ],
   "source": [
    "pip install pyarrow"
   ]
  },
  {
   "cell_type": "code",
   "execution_count": 7,
   "id": "05293557",
   "metadata": {},
   "outputs": [
    {
     "name": "stdout",
     "output_type": "stream",
     "text": [
      "       acousticness                                 artists  danceability  \\\n",
      "23699      0.995000  ['Ludwig van Beethoven', 'Paul Lewis']         0.184   \n",
      "23608      0.189000                             ['Omarion']         0.775   \n",
      "23242      0.000272                          ['Audioslave']         0.379   \n",
      "12297      0.284000                       ['PARTYNEXTDOOR']         0.782   \n",
      "26735      0.102000        ['Jon Bellion', 'Travis Mendes']         0.574   \n",
      "...             ...                                     ...           ...   \n",
      "15198      0.251000              ['Nujabes', 'Substantial']         0.596   \n",
      "11354      0.017400                                 ['ABN']         0.662   \n",
      "32953      0.052500                               ['TWICE']         0.708   \n",
      "4605       0.006810                            ['Kasabian']         0.613   \n",
      "9504       0.426000   ['El Coyote Y Su Banda Tierra Santa']         0.769   \n",
      "\n",
      "       duration_ms  duration_minutes   energy  explicit  \\\n",
      "23699     315427.0          5.257117  0.00527       0.0   \n",
      "23608     256427.0          4.273783  0.73100       0.0   \n",
      "23242     279333.0          4.655550  0.71600       0.0   \n",
      "12297     303030.0          5.050500  0.36700       1.0   \n",
      "26735     208125.0          3.468750  0.80300       0.0   \n",
      "...            ...               ...      ...       ...   \n",
      "15198     214333.0          3.572217  0.77700       0.0   \n",
      "11354     275373.0          4.589550  0.64000       1.0   \n",
      "32953     212987.0          3.549783  0.85300       0.0   \n",
      "4605      197600.0          3.293333  0.76100       0.0   \n",
      "9504      142200.0          2.370000  0.73900       0.0   \n",
      "\n",
      "                           id  instrumentalness   key  liveness  loudness  \\\n",
      "23699  3DNRdudZ2SstnDCVKFdXxG          0.887000   1.0    0.1730   -37.264   \n",
      "23608  5qhlC4Rzals34zxovrPzKp          0.000000   8.0    0.1290    -5.446   \n",
      "23242  33AxY0QUitvte6JV6B6uLE          0.001230   4.0    0.0786    -4.312   \n",
      "12297  46HZ8l9wPo9JNsk7dZLamb          0.000000   1.0    0.0899    -5.280   \n",
      "26735  2FK1qmw8XNBqUe5CcgTVnE          0.000004   4.0    0.0861    -3.170   \n",
      "...                       ...               ...   ...       ...       ...   \n",
      "15198  7mEPuj0XW6eK14Unu6IUc1          0.071700  11.0    0.2060   -11.963   \n",
      "11354  5jzi1xR6f9u2HrDP9dDWKY          0.000000  10.0    0.3370    -8.846   \n",
      "32953  5KfbFCacFuNJGdK2zvovcF          0.000173   2.0    0.3990    -4.398   \n",
      "4605   1t8TCORVxdItzE3zy1X0tv          0.000152   9.0    0.2700    -7.468   \n",
      "9504   1yplnIFFnaIPgiOOKdlQDa          0.000003   8.0    0.2060    -2.945   \n",
      "\n",
      "       mode                                               name  popularity  \\\n",
      "23699   0.0  Sonata No. 14 \"Moonlight\" in C-Sharp Minor\", O...        67.0   \n",
      "23608   1.0                                            Ice Box        61.0   \n",
      "23242   1.0                                           Gasoline        60.0   \n",
      "12297   0.0                                      Peace of Mind        59.0   \n",
      "26735   0.0                                         Guillotine        63.0   \n",
      "...     ...                                                ...         ...   \n",
      "15198   0.0                        Eclipse (feat. Substantial)        45.0   \n",
      "11354   0.0                                 Still Gets No Love        40.0   \n",
      "32953   1.0                                                 TT        70.0   \n",
      "4605    1.0                                             L.S.F.        58.0   \n",
      "9504    1.0                              La Escuela de la Vida        49.0   \n",
      "\n",
      "      release_date  speechiness    tempo  valence    year  \n",
      "23699   2007-09-25       0.0432  170.612    0.151  2007.0  \n",
      "23608   2006-12-26       0.1340  131.105    0.821  2006.0  \n",
      "23242   2002-11-17       0.0326   92.721    0.239  2002.0  \n",
      "12297   2017-06-02       0.0548   99.004    0.425  2017.0  \n",
      "26735   2016-06-10       0.1860   97.967    0.647  2016.0  \n",
      "...            ...          ...      ...      ...     ...  \n",
      "15198   2005-11-11       0.2620   95.650    0.642  2005.0  \n",
      "11354         2008       0.2330  150.058    0.722  2008.0  \n",
      "32953   2016-10-24       0.0844  129.946    0.399  2016.0  \n",
      "4605    2004-01-30       0.0343  105.274    0.440  2004.0  \n",
      "9504    2011-03-09       0.0323  109.926    0.975  2011.0  \n",
      "\n",
      "[1000 rows x 20 columns]\n"
     ]
    }
   ],
   "source": [
    "spotify_population = pd.read_feather('spotify_2000_2020.feather')\n",
    "# Sample 1000 rows from spotify_population\n",
    "spotify_sample = spotify_population.sample(1000)\n",
    "\n",
    "# Print the sample\n",
    "print(spotify_sample)"
   ]
  },
  {
   "cell_type": "code",
   "execution_count": 8,
   "id": "44f37a23",
   "metadata": {},
   "outputs": [
    {
     "name": "stdout",
     "output_type": "stream",
     "text": [
      "3.8521519140899896\n",
      "3.8994895500000024\n"
     ]
    }
   ],
   "source": [
    "# Calculate the mean duration in mins from spotify_population\n",
    "mean_dur_pop = spotify_population[\"duration_minutes\"].mean()\n",
    "\n",
    "# Calculate the mean duration in mins from spotify_sample\n",
    "mean_dur_samp = spotify_sample[\"duration_minutes\"].mean()\n",
    "\n",
    "# Print the means\n",
    "print(mean_dur_pop)\n",
    "print(mean_dur_samp)"
   ]
  },
  {
   "cell_type": "markdown",
   "id": "b7e0eb3b",
   "metadata": {},
   "source": [
    "## Simple sampling and calculating with NumPy\n",
    "We can also use numpy to calculate parameters or statistics from a list or pandas Series.\n",
    "\n",
    "We'll be turning it up to eleven and looking at the loudness property of each song."
   ]
  },
  {
   "cell_type": "code",
   "execution_count": 9,
   "id": "e3cf429e",
   "metadata": {},
   "outputs": [
    {
     "name": "stdout",
     "output_type": "stream",
     "text": [
      "40608    -7.873\n",
      "18698   -35.348\n",
      "20095   -10.304\n",
      "1563    -10.310\n",
      "11650    -6.533\n",
      "          ...  \n",
      "39791    -3.231\n",
      "37305    -4.649\n",
      "2064     -3.680\n",
      "8412     -8.694\n",
      "9489     -5.844\n",
      "Name: loudness, Length: 100, dtype: float64\n"
     ]
    }
   ],
   "source": [
    "# Create a pandas Series from the loudness column of spotify_population\n",
    "loudness_pop = spotify_population['loudness']\n",
    "\n",
    "# Sample 100 values of loudness_pop\n",
    "loudness_samp = loudness_pop.sample(n=100)\n",
    "\n",
    "# Print the sample\n",
    "print(loudness_samp)"
   ]
  },
  {
   "cell_type": "code",
   "execution_count": 12,
   "id": "51cac1cc",
   "metadata": {},
   "outputs": [
    {
     "name": "stdout",
     "output_type": "stream",
     "text": [
      "-7.366856851353918\n",
      "-7.313239999999997\n"
     ]
    }
   ],
   "source": [
    "# Calculate the mean of loudness_pop\n",
    "mean_loudness_pop = np.mean(loudness_pop)\n",
    "\n",
    "# Calculate the mean of loudness_samp\n",
    "mean_loudness_samp = np.mean(loudness_samp)\n",
    "\n",
    "# Print the means\n",
    "print(mean_loudness_pop)\n",
    "print(mean_loudness_samp)"
   ]
  }
 ],
 "metadata": {
  "kernelspec": {
   "display_name": "Python 3 (ipykernel)",
   "language": "python",
   "name": "python3"
  },
  "language_info": {
   "codemirror_mode": {
    "name": "ipython",
    "version": 3
   },
   "file_extension": ".py",
   "mimetype": "text/x-python",
   "name": "python",
   "nbconvert_exporter": "python",
   "pygments_lexer": "ipython3",
   "version": "3.9.12"
  }
 },
 "nbformat": 4,
 "nbformat_minor": 5
}
