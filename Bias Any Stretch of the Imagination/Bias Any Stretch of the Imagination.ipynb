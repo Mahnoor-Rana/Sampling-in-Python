{
 "cells": [
  {
   "cell_type": "markdown",
   "id": "999bbeda",
   "metadata": {},
   "source": [
    "Learn what sampling is and why it is so powerful. You’ll also learn about the problems caused by convenience sampling and the differences between true randomness and pseudo-randomness."
   ]
  },
  {
   "cell_type": "markdown",
   "id": "a7e0b0c7",
   "metadata": {},
   "source": [
    "## Simple sampling with pandas\n",
    "We'll be exploring song data from Spotify. Each row of this population dataset represents a song, and there are over 40,000 rows. Columns include the song name, the artists who performed it, the release year, and attributes of the song like its duration, tempo, and danceability. We'll start by looking at the durations."
   ]
  },
  {
   "cell_type": "code",
   "execution_count": 1,
   "id": "c98d7d18",
   "metadata": {},
   "outputs": [],
   "source": [
    "import pandas as pd \n",
    "import numpy as np \n",
    "import matplotlib.pyplot as plt\n",
    "import seaborn as sns"
   ]
  },
  {
   "cell_type": "code",
   "execution_count": 2,
   "id": "01d14e0a",
   "metadata": {},
   "outputs": [
    {
     "name": "stdout",
     "output_type": "stream",
     "text": [
      "Requirement already satisfied: pyarrow in c:\\users\\hp\\anaconda3\\lib\\site-packages (9.0.0)\n",
      "Requirement already satisfied: numpy>=1.16.6 in c:\\users\\hp\\anaconda3\\lib\\site-packages (from pyarrow) (1.21.5)\n",
      "Note: you may need to restart the kernel to use updated packages.\n"
     ]
    }
   ],
   "source": [
    "pip install pyarrow"
   ]
  },
  {
   "cell_type": "code",
   "execution_count": 3,
   "id": "05293557",
   "metadata": {},
   "outputs": [
    {
     "name": "stdout",
     "output_type": "stream",
     "text": [
      "       acousticness                              artists  danceability  \\\n",
      "6207        0.11200                 ['R3HAB', 'GATTÜSO']         0.766   \n",
      "4570        0.35600                    ['Lionel Richie']         0.632   \n",
      "14095       0.87400               ['The National Parks']         0.430   \n",
      "30398       0.00446    ['Will Reagan', 'United Pursuit']         0.363   \n",
      "2317        0.83800                   ['Ricardo Arjona']         0.557   \n",
      "...             ...                                  ...           ...   \n",
      "33384       0.00740                      ['Limp Bizkit']         0.428   \n",
      "7314        0.41500  ['Los Buitres De Culiacan Sinaloa']         0.657   \n",
      "40061       0.02600                      ['Steel Pulse']         0.859   \n",
      "28936       0.49000           ['Lauv', 'Julia Michaels']         0.755   \n",
      "16168       0.00641                      ['$uicideBoy$']         0.607   \n",
      "\n",
      "       duration_ms  duration_minutes  energy  explicit  \\\n",
      "6207      161190.0          2.686500   0.611       1.0   \n",
      "4570      242453.0          4.040883   0.408       0.0   \n",
      "14095     216653.0          3.610883   0.133       0.0   \n",
      "30398     304829.0          5.080483   0.542       0.0   \n",
      "2317      251787.0          4.196450   0.323       0.0   \n",
      "...            ...               ...     ...       ...   \n",
      "33384     247360.0          4.122667   0.978       0.0   \n",
      "7314      149360.0          2.489333   0.680       0.0   \n",
      "40061     270520.0          4.508667   0.668       0.0   \n",
      "28936     174861.0          2.914350   0.625       0.0   \n",
      "16168     126224.0          2.103733   0.749       1.0   \n",
      "\n",
      "                           id  instrumentalness   key  liveness  loudness  \\\n",
      "6207   5LRxdeykOfvKb1aWGrrGyo          0.000606  11.0    0.1870    -9.251   \n",
      "4570   1Ih6wTuQems9OkYTzcZdhM          0.000000   8.0    0.0727   -10.858   \n",
      "14095  2AcN6OGdjrnvNNoLTLFSy6          0.000322   8.0    0.1130   -13.512   \n",
      "30398  3LSna6W1dRf2QbsUgmRoFf          0.000075   0.0    0.3320    -5.644   \n",
      "2317   3b4749nnFuPGUJiYtuLhT2          0.000018   2.0    0.3010    -7.773   \n",
      "...                       ...               ...   ...       ...       ...   \n",
      "33384  6YU556RBcA4js0poLlP8Cu          0.025600  11.0    0.4580    -3.199   \n",
      "7314   3Xq7YleGkp9Gu6Fj8Gpurp          0.000000  10.0    0.3380    -4.266   \n",
      "40061  5JkbyYRxPW7Wg1evBIVDmK          0.000007   8.0    0.2980    -7.230   \n",
      "28936  0WTN7om3lHG3yYMigwzBxl          0.000000   2.0    0.1570    -7.114   \n",
      "16168  2Bkfvi3pCcwoJwnmd45OnA          0.000077   2.0    0.2340    -4.497   \n",
      "\n",
      "       mode                                   name  popularity release_date  \\\n",
      "6207    1.0                                  Creep        77.0   2020-03-20   \n",
      "4570    1.0                        Say You, Say Me        55.0         2003   \n",
      "14095   1.0                           You Are Gold        52.0   2015-08-04   \n",
      "30398   1.0                             Set a Fire        58.0   2012-12-04   \n",
      "2317    1.0                            Amarte a Ti        53.0         2002   \n",
      "...     ...                                    ...         ...          ...   \n",
      "33384   1.0                            Full Nelson        52.0   2000-10-17   \n",
      "7314    1.0                           El Tamarindo        52.0         2010   \n",
      "40061   0.0                          Chant a Psalm        48.0   2005-02-08   \n",
      "28936   1.0  There's No Way (feat. Julia Michaels)        75.0   2018-09-27   \n",
      "16168   1.0                                 Exodus        53.0   2015-06-15   \n",
      "\n",
      "       speechiness    tempo  valence    year  \n",
      "6207        0.0542  126.000   0.1280  2020.0  \n",
      "4570        0.0266  128.042   0.2300  2003.0  \n",
      "14095       0.0311  107.916   0.1600  2015.0  \n",
      "30398       0.0322  130.820   0.2500  2012.0  \n",
      "2317        0.1060   78.862   0.0791  2002.0  \n",
      "...            ...      ...      ...     ...  \n",
      "33384       0.1370   97.590   0.4390  2000.0  \n",
      "7314        0.2660  164.825   0.9040  2010.0  \n",
      "40061       0.0463  111.493   0.9580  2005.0  \n",
      "28936       0.0896  147.020   0.3740  2018.0  \n",
      "16168       0.0728  121.829   0.1800  2015.0  \n",
      "\n",
      "[1000 rows x 20 columns]\n"
     ]
    }
   ],
   "source": [
    "spotify_population = pd.read_feather('spotify_2000_2020.feather')\n",
    "# Sample 1000 rows from spotify_population\n",
    "spotify_sample = spotify_population.sample(1000)\n",
    "\n",
    "# Print the sample\n",
    "print(spotify_sample)"
   ]
  },
  {
   "cell_type": "code",
   "execution_count": 4,
   "id": "44f37a23",
   "metadata": {},
   "outputs": [
    {
     "name": "stdout",
     "output_type": "stream",
     "text": [
      "3.8521519140899896\n",
      "3.834135816666664\n"
     ]
    }
   ],
   "source": [
    "# Calculate the mean duration in mins from spotify_population\n",
    "mean_dur_pop = spotify_population[\"duration_minutes\"].mean()\n",
    "\n",
    "# Calculate the mean duration in mins from spotify_sample\n",
    "mean_dur_samp = spotify_sample[\"duration_minutes\"].mean()\n",
    "\n",
    "# Print the means\n",
    "print(mean_dur_pop)\n",
    "print(mean_dur_samp)"
   ]
  },
  {
   "cell_type": "markdown",
   "id": "b7e0eb3b",
   "metadata": {},
   "source": [
    "## Simple sampling and calculating with NumPy\n",
    "We can also use numpy to calculate parameters or statistics from a list or pandas Series.\n",
    "\n",
    "We'll be turning it up to eleven and looking at the loudness property of each song."
   ]
  },
  {
   "cell_type": "code",
   "execution_count": 5,
   "id": "e3cf429e",
   "metadata": {},
   "outputs": [
    {
     "name": "stdout",
     "output_type": "stream",
     "text": [
      "20967    -4.151\n",
      "18127    -5.183\n",
      "16904    -7.528\n",
      "5767     -2.325\n",
      "12188   -12.369\n",
      "          ...  \n",
      "5193    -12.401\n",
      "18252    -5.776\n",
      "18775    -7.850\n",
      "5963    -51.080\n",
      "30137   -23.201\n",
      "Name: loudness, Length: 100, dtype: float64\n"
     ]
    }
   ],
   "source": [
    "# Create a pandas Series from the loudness column of spotify_population\n",
    "loudness_pop = spotify_population['loudness']\n",
    "\n",
    "# Sample 100 values of loudness_pop\n",
    "loudness_samp = loudness_pop.sample(n=100)\n",
    "\n",
    "# Print the sample\n",
    "print(loudness_samp)"
   ]
  },
  {
   "cell_type": "code",
   "execution_count": 6,
   "id": "51cac1cc",
   "metadata": {},
   "outputs": [
    {
     "name": "stdout",
     "output_type": "stream",
     "text": [
      "-7.366856851353918\n",
      "-8.18793\n"
     ]
    }
   ],
   "source": [
    "# Calculate the mean of loudness_pop\n",
    "mean_loudness_pop = np.mean(loudness_pop)\n",
    "\n",
    "# Calculate the mean of loudness_samp\n",
    "mean_loudness_samp = np.mean(loudness_samp)\n",
    "\n",
    "# Print the means\n",
    "print(mean_loudness_pop)\n",
    "print(mean_loudness_samp)"
   ]
  },
  {
   "cell_type": "markdown",
   "id": "7978da76",
   "metadata": {},
   "source": [
    "## Are the findings from this sample generalizable?\n",
    "We just saw how convenience sampling—collecting data using the easiest method—can result in samples that aren't representative of the population. Equivalently, this means findings from the sample are not generalizable to the population. Visualizing the distributions of the population and the sample can help determine whether or not the sample is representative of the population.\n",
    "\n",
    "The Spotify dataset contains an acousticness column, which is a confidence measure from zero to one of whether the track was made with instruments that aren't plugged in. You'll compare the acousticness distribution of the total population of songs with a sample of those songs."
   ]
  },
  {
   "cell_type": "code",
   "execution_count": 7,
   "id": "bd46779b",
   "metadata": {},
   "outputs": [
    {
     "data": {
      "image/png": "[encoded data removed]",
      "text/plain": [
       "<Figure size 432x288 with 1 Axes>"
      ]
     },
     "metadata": {
      "needs_background": "light"
     },
     "output_type": "display_data"
    }
   ],
   "source": [
    "# Visualize the distribution of acousticness with a histogram\n",
    "spotify_population['acousticness'].hist(bins=np.arange(0, 1.01, 0.01))\n",
    "plt.show()"
   ]
  },
  {
   "cell_type": "markdown",
   "id": "729bc9c0",
   "metadata": {},
   "source": [
    "## Are these findings generalizable?\n",
    "Let's look at another sample to see if it is representative of the population. This time, we'll look at the duration_minutes column of the Spotify dataset, which contains the length of the song in minutes."
   ]
  },
  {
   "cell_type": "code",
   "execution_count": 8,
   "id": "d2d496dd",
   "metadata": {},
   "outputs": [
    {
     "data": {
      "image/png": "[encoded data removed]",
      "text/plain": [
       "<Figure size 432x288 with 1 Axes>"
      ]
     },
     "metadata": {
      "needs_background": "light"
     },
     "output_type": "display_data"
    }
   ],
   "source": [
    "# Visualize the distribution of duration_minutes as a histogram\n",
    "spotify_population['duration_minutes'].hist(bins=np.arange(0, 15.5, 0.5))\n",
    "plt.show()"
   ]
  },
  {
   "cell_type": "markdown",
   "id": "6d6bb9a5",
   "metadata": {},
   "source": [
    "## Generating random numbers\n",
    "We've used .sample() to generate pseudo-random numbers from a set of values in a DataFrame. A related task is to generate random numbers that follow a statistical distribution, like the uniform distribution or the normal distribution.\n",
    "\n",
    "Each random number generation function has distribution-specific arguments and an argument for specifying the number of random numbers to generate."
   ]
  },
  {
   "cell_type": "code",
   "execution_count": 9,
   "id": "f3aeca18",
   "metadata": {},
   "outputs": [
    {
     "name": "stdout",
     "output_type": "stream",
     "text": [
      "[-2.97239998 -0.14415391 -2.98366387 ...  1.65478435  2.16295704\n",
      " -2.51107794]\n"
     ]
    }
   ],
   "source": [
    "# Generate random numbers from a Uniform(-3, 3)\n",
    "uniforms = np.random.uniform(high= 3,low = -3, size = 5000)\n",
    "\n",
    "# Print uniforms\n",
    "print(uniforms)"
   ]
  },
  {
   "cell_type": "code",
   "execution_count": 10,
   "id": "012bcad4",
   "metadata": {},
   "outputs": [
    {
     "name": "stdout",
     "output_type": "stream",
     "text": [
      "[6.42693572 5.89350037 6.34517384 ... 8.68594224 4.11896385 4.83825659]\n"
     ]
    }
   ],
   "source": [
    "# Generate random numbers from a Uniform(-3, 3)\n",
    "uniforms = np.random.uniform(low=-3, high=3, size=5000)\n",
    "\n",
    "# Generate random numbers from a Normal(5, 2)\n",
    "normals = np.random.normal(loc = 5,scale = 2, size = 5000)\n",
    "\n",
    "# Print normals\n",
    "print(normals)# Generate random numbers from a Uniform(-3, 3)\n",
    "\n"
   ]
  },
  {
   "cell_type": "code",
   "execution_count": 11,
   "id": "e4ae9094",
   "metadata": {},
   "outputs": [
    {
     "data": {
      "image/png": "[encoded data removed]",
      "text/plain": [
       "<Figure size 432x288 with 1 Axes>"
      ]
     },
     "metadata": {
      "needs_background": "light"
     },
     "output_type": "display_data"
    }
   ],
   "source": [
    "# Generate random numbers from a Uniform(-3, 3)\n",
    "uniforms = np.random.uniform(low=-3, high=3, size=5000)\n",
    "\n",
    "# Plot a histogram of uniform values, binwidth 0.25\n",
    "plt.hist(uniforms, bins=np.arange(-3, 3.25, 0.25))\n",
    "plt.show()"
   ]
  },
  {
   "cell_type": "code",
   "execution_count": 12,
   "id": "b603828c",
   "metadata": {},
   "outputs": [
    {
     "data": {
      "image/png": "[encoded data removed]",
      "text/plain": [
       "<Figure size 432x288 with 1 Axes>"
      ]
     },
     "metadata": {
      "needs_background": "light"
     },
     "output_type": "display_data"
    }
   ],
   "source": [
    "# Plot a histogram of normal values, binwidth 0.5\n",
    "plt.hist(normals, bins=np.arange(-2, 13.5, 0.5))\n",
    "plt.show()"
   ]
  },
  {
   "cell_type": "markdown",
   "id": "33d26902",
   "metadata": {},
   "source": [
    "## Sampling distribution vs. bootstrap distribution\n",
    "The sampling distribution and bootstrap distribution are closely linked. In situations where you can repeatedly sample from a population (these occasions are rare), it's helpful to generate both the sampling distribution and the bootstrap distribution, one after the other, to see how they are related."
   ]
  },
  {
   "cell_type": "code",
   "execution_count": 13,
   "id": "5a77f9b2",
   "metadata": {},
   "outputs": [
    {
     "name": "stdout",
     "output_type": "stream",
     "text": [
      "[54.682, 55.674, 55.522, 54.436, 55.404, 54.22, 54.038, 54.904, 54.776, 54.968, 54.54, 55.018, 54.612, 54.832, 55.14, 54.288, 54.476, 53.842, 54.906, 55.492, 54.5, 55.532, 55.46, 54.006, 54.354, 55.314, 54.486, 54.044, 54.412, 54.956, 54.788, 54.91, 54.97, 54.794, 54.37, 55.154, 54.522, 54.29, 55.124, 54.624, 54.782, 54.406, 54.988, 54.128, 55.02, 54.246, 54.782, 55.06, 55.362, 54.85, 55.244, 55.436, 55.266, 55.224, 54.372, 55.216, 55.138, 54.782, 54.72, 54.888, 54.664, 54.296, 54.372, 54.84, 54.76, 55.268, 53.478, 55.674, 54.18, 54.454, 54.61, 54.246, 54.89, 54.476, 54.296, 55.394, 54.654, 54.828, 55.066, 54.314, 55.132, 55.024, 55.096, 54.43, 54.68, 54.51, 54.672, 54.038, 54.772, 54.59, 55.584, 55.43, 54.658, 55.026, 54.582, 54.252, 55.164, 55.344, 56.814, 55.14, 54.964, 54.712, 54.754, 54.778, 54.754, 55.0, 54.344, 54.968, 54.078, 54.4, 54.7, 55.318, 54.646, 54.182, 53.798, 55.706, 54.144, 54.61, 54.358, 55.044, 54.498, 54.412, 54.726, 55.104, 54.786, 54.826, 55.514, 54.21, 55.098, 55.044, 55.012, 55.668, 54.854, 55.198, 54.336, 55.052, 55.378, 54.858, 55.434, 54.68, 54.534, 54.21, 55.788, 55.322, 54.802, 54.184, 54.418, 54.952, 53.858, 55.072, 54.97, 54.884, 55.698, 55.478, 54.454, 54.758, 54.748, 54.858, 54.676, 55.554, 54.954, 55.146, 54.898, 54.108, 55.124, 54.618, 54.47, 54.134, 54.378, 54.384, 55.602, 54.814, 55.55, 54.86, 55.152, 55.15, 55.138, 54.592, 55.364, 54.992, 55.4, 54.51, 54.02, 54.236, 54.744, 54.718, 55.212, 54.86, 54.748, 55.436, 54.466, 55.126, 55.148, 54.534, 55.064, 55.1, 54.752, 55.76, 54.086, 53.806, 54.838, 55.22, 55.01, 55.174, 54.49, 54.508, 54.698, 54.152, 54.956, 55.226, 54.628, 55.422, 54.71, 54.86, 55.812, 54.598, 55.23, 55.818, 55.102, 54.084, 54.546, 55.58, 54.852, 54.864, 54.094, 54.35, 55.186, 54.798, 55.012, 54.348, 55.92, 55.102, 54.844, 54.746, 54.644, 54.088, 55.494, 55.166, 54.36, 54.804, 54.674, 55.022, 54.688, 55.042, 54.366, 54.18, 55.272, 55.918, 54.83, 55.412, 54.346, 54.856, 54.944, 54.502, 54.176, 55.362, 55.682, 55.064, 55.648, 54.924, 54.686, 54.8, 54.534, 54.52, 55.398, 54.958, 54.806, 54.54, 55.038, 54.264, 54.544, 54.21, 55.342, 55.034, 54.476, 54.556, 54.86, 55.012, 55.114, 55.102, 54.368, 55.7, 54.842, 54.648, 54.15, 55.254, 55.14, 55.832, 54.936, 54.246, 54.566, 55.146, 54.3, 54.904, 54.79, 54.862, 54.814, 54.768, 55.374, 53.836, 54.078, 54.064, 54.582, 55.2, 54.962, 55.222, 54.89, 54.38, 54.944, 54.74, 54.43, 54.508, 54.452, 55.4, 55.004, 55.426, 54.702, 54.194, 55.216, 54.774, 54.712, 54.854, 54.574, 54.394, 54.684, 54.654, 55.576, 54.47, 53.996, 55.008, 54.708, 54.808, 55.888, 54.674, 54.54, 54.904, 54.872, 55.334, 56.054, 55.074, 55.334, 54.744, 54.608, 55.09, 55.518, 54.72, 54.64, 54.718, 54.638, 55.936, 55.044, 54.662, 55.264, 54.706, 54.846, 54.352, 54.788, 54.74, 55.186, 53.864, 55.132, 54.482, 54.394, 54.894, 54.622, 54.174, 53.958, 54.604, 54.378, 55.316, 54.082, 54.294, 54.286, 55.298, 54.748, 54.316, 54.962, 55.398, 55.736, 54.148, 54.914, 54.786, 55.32, 54.812, 54.61, 54.806, 54.778, 55.05, 54.92, 54.704, 54.448, 55.002, 54.55, 55.114, 54.8, 54.632, 54.038, 54.878, 55.356, 54.652, 54.932, 55.62, 55.006, 54.47, 55.442, 55.616, 54.75, 54.69, 55.294, 55.042, 54.58, 54.276, 55.278, 55.116, 54.436, 55.468, 54.342, 54.882, 54.292, 54.9, 54.63, 55.096, 54.634, 55.302, 54.602, 55.294, 54.968, 55.514, 54.814, 54.568, 55.314, 55.328, 54.824, 55.358, 54.882, 55.002, 55.498, 54.038, 55.6, 55.132, 54.34, 54.196, 55.458, 54.45, 53.816, 54.924, 54.282, 54.262, 54.898, 55.758, 55.086, 54.886, 55.374, 54.966, 54.972, 54.926, 55.172, 54.896, 55.088, 54.474, 53.972, 55.1, 54.602, 54.612, 54.972, 54.324, 54.628, 54.466, 55.06, 54.67, 54.474, 54.738, 55.052, 55.806, 54.808, 54.304, 54.998, 55.194, 55.826, 54.666, 54.93, 54.912, 55.864, 54.554, 55.266, 54.852, 54.796, 55.428, 55.106, 53.806, 55.142, 55.154, 54.334, 54.452, 54.414, 54.59, 54.548, 54.806, 54.904, 54.992, 54.936, 54.254, 55.34, 54.86, 54.97, 55.908, 54.412, 54.282, 54.86, 55.28, 55.144, 55.192, 54.77, 54.234, 55.028, 55.032, 55.042, 54.784, 55.14, 54.53, 55.812, 54.348, 54.462, 53.058, 55.286, 55.054, 54.538, 55.57, 54.812, 54.902, 55.206, 54.114, 53.674, 55.292, 54.452, 55.424, 54.898, 55.134, 54.96, 55.166, 54.324, 54.958, 56.052, 55.114, 54.542, 55.22, 55.124, 54.996, 55.054, 54.286, 54.834, 55.106, 54.274, 54.688, 54.88, 55.108, 55.396, 54.594, 54.604, 55.068, 54.812, 54.424, 54.624, 55.174, 54.726, 54.76, 54.704, 54.214, 54.05, 54.18, 55.194, 53.65, 55.026, 54.932, 54.736, 54.55, 56.014, 55.082, 55.002, 54.878, 55.264, 55.776, 54.83, 54.728, 54.44, 54.432, 54.786, 54.55, 54.45, 55.53, 54.866, 54.962, 55.038, 54.448, 54.712, 53.876, 55.152, 54.936, 54.296, 54.758, 53.868, 54.49, 55.732, 55.004, 55.2, 54.944, 54.42, 54.972, 54.606, 54.334, 55.63, 54.564, 54.698, 54.126, 55.084, 55.022, 54.568, 55.364, 54.536, 55.466, 54.914, 54.632, 53.972, 54.842, 54.546, 54.812, 54.738, 55.174, 55.158, 55.232, 54.82, 55.628, 55.182, 54.14, 55.068, 55.872, 55.256, 55.05, 55.074, 54.594, 54.64, 55.658, 54.894, 55.76, 54.332, 54.906, 54.88, 53.768, 55.27, 55.018, 55.322, 54.062, 54.008, 54.676, 54.878, 54.644, 54.704, 55.038, 55.448, 54.814, 55.1, 54.018, 55.324, 54.646, 54.494, 55.538, 54.848, 54.7, 54.608, 54.736, 54.706, 54.57, 54.84, 54.126, 54.94, 53.916, 53.77, 54.886, 55.154, 53.722, 55.08, 55.056, 54.824, 54.352, 55.546, 54.604, 55.494, 54.82, 54.876, 55.452, 54.75, 55.552, 54.918, 55.202, 54.656, 53.668, 54.438, 54.182, 55.108, 55.56, 54.316, 55.17, 53.844, 54.094, 54.082, 56.14, 55.378, 54.864, 55.216, 54.416, 55.064, 54.884, 55.16, 54.376, 54.79, 55.186, 54.79, 54.836, 55.948, 54.822, 54.568, 53.966, 55.006, 55.424, 54.658, 54.41, 54.538, 54.754, 55.064, 54.876, 54.756, 54.458, 55.626, 54.77, 55.4, 55.054, 54.878, 54.246, 54.97, 54.826, 55.176, 54.784, 53.298, 54.568, 55.21, 55.27, 55.074, 53.898, 54.908, 54.556, 55.058, 54.928, 54.922, 54.844, 55.284, 55.212, 54.774, 55.284, 54.382, 54.432, 55.3, 55.258, 54.464, 54.684, 54.088, 55.158, 54.588, 53.984, 55.098, 55.144, 55.606, 55.274, 54.818, 55.18, 55.438, 54.974, 54.768, 55.008, 54.186, 54.736, 54.402, 55.144, 55.084, 54.748, 54.654, 54.872, 55.064, 53.386, 54.574, 54.284, 55.298, 55.108, 54.71, 54.894, 54.798, 54.762, 55.676, 53.87, 55.792, 55.19, 54.4, 53.842, 55.044, 55.208, 54.404, 54.604, 54.934, 54.664, 54.834, 54.902, 54.374, 55.286, 54.316, 54.426, 55.028, 55.172, 55.124, 55.074, 54.786, 54.404, 54.788, 54.886, 53.808, 54.132, 55.264, 54.234, 55.632, 55.628, 55.342, 55.064, 55.432, 54.712, 54.978, 55.994, 54.7, 54.346, 55.0, 54.82, 54.324, 55.614, 53.802, 53.914, 55.428, 54.5, 54.202, 55.342, 54.958, 54.48, 54.806, 54.268, 54.928, 54.948, 55.244, 54.55, 54.62, 54.286, 54.592, 55.436, 54.778, 54.532, 54.542, 54.958, 54.112, 54.69, 55.052, 54.322, 54.434, 54.47, 54.474, 55.23, 55.206, 55.332, 55.584, 54.054, 54.786, 55.084, 54.326, 55.076, 54.618, 55.022, 54.106, 54.936, 54.646, 54.82, 55.238, 55.062, 54.398, 54.102, 55.186, 54.534, 54.826, 54.802, 54.742, 53.93, 54.68, 54.418, 55.114, 54.516, 55.582, 54.896, 54.314, 54.324, 56.064, 55.31, 54.832, 54.976, 55.386, 55.612, 54.24, 55.028, 53.494, 54.572, 55.762, 54.88, 54.986, 55.406, 54.782, 54.894, 54.866, 53.922, 54.74, 54.886, 54.778, 55.2, 54.988, 55.128, 54.888, 54.848, 54.9, 55.692, 54.872, 54.978, 55.146, 54.436, 54.476, 54.44, 55.652, 55.848, 54.768, 54.656, 55.788, 54.276, 55.114, 54.71, 54.012, 54.896, 55.078, 54.506, 54.828, 55.648, 54.992, 54.16, 54.944, 55.218, 54.81, 54.864, 54.852, 55.546, 55.464, 54.996, 54.838, 53.808, 55.036, 55.736, 55.418, 54.918, 54.79, 55.162, 54.568, 54.38, 55.112, 55.252, 54.942, 54.562, 55.14, 54.874, 55.346, 55.124, 54.054, 55.008, 55.306, 55.15, 54.664, 54.07, 55.068, 55.286, 55.024, 54.606, 54.99, 54.756, 55.266, 55.198, 54.592, 54.606, 54.9, 55.62, 54.792, 55.088, 54.398, 54.938, 54.628, 55.478, 54.604, 53.958, 55.068, 55.16, 55.442, 54.768, 55.446, 55.104, 54.594, 54.592, 53.928, 55.03, 54.516, 55.122, 55.362, 54.914, 54.954, 54.266, 54.05, 54.948, 55.152, 54.948, 54.638, 55.114, 54.722, 54.524, 55.534, 53.902, 55.154, 54.23, 54.956, 54.508, 55.432, 53.938, 55.178, 54.654, 54.844, 54.62, 54.984, 54.16, 55.012, 55.446, 54.79, 55.028, 55.474, 54.298, 55.446, 54.026, 55.28, 54.794, 54.692, 54.66, 54.746, 55.664, 54.848, 54.316, 54.97, 55.364, 55.334, 54.61, 55.234, 55.224, 54.998, 55.144, 54.956, 55.562, 55.422, 55.268, 55.932, 55.384, 54.604, 55.05, 54.968, 53.95, 54.77, 54.118, 54.57, 54.692, 54.692, 54.766, 55.086, 54.274, 55.286, 54.6, 54.268, 54.398, 55.22, 54.458, 55.198, 54.21, 55.61, 54.744, 54.34, 55.124, 54.47, 54.168, 55.06, 55.394, 55.39, 54.508, 54.836, 54.57, 55.504, 54.718, 55.232, 55.078, 54.99, 54.734, 55.096, 55.874, 54.29, 54.608, 53.87, 54.494, 54.098, 54.724, 55.244, 55.712, 54.6, 55.062, 53.348, 55.106, 55.604, 55.214, 54.882, 55.168, 54.412, 54.84, 55.152, 54.52, 54.848, 54.99, 54.632, 55.434, 54.07, 55.178, 54.896, 55.318, 55.448, 55.188, 54.876, 54.634, 55.106, 54.228, 54.598, 55.404, 54.702, 54.982, 55.386, 55.26, 54.678, 54.972, 53.716, 55.546, 55.008, 55.174, 55.402, 54.466, 55.11, 54.73, 55.376, 54.508, 54.768, 54.48, 54.848, 54.132, 54.612, 54.388, 55.472, 54.466, 54.548, 54.918, 54.552, 55.272, 54.148, 55.096, 54.788, 54.752, 55.046, 54.074, 54.612, 54.432, 54.474, 54.718, 54.492, 54.218, 54.726, 55.128, 55.154, 54.452, 54.838, 54.744, 53.688, 54.93, 53.864, 54.96, 54.972, 55.286, 55.61, 55.136, 54.652, 55.188, 54.976, 54.972, 55.226, 54.726, 53.8, 54.392, 54.86, 54.768, 55.02, 54.908, 55.488, 54.464, 54.764, 54.096, 54.36, 55.174, 54.164, 55.158, 54.648, 54.278, 55.278, 54.784, 55.356, 55.574, 54.482, 54.18, 54.904, 55.566, 54.794, 55.018, 54.686, 54.79, 54.314, 54.654, 55.39, 54.154, 54.832, 54.904, 54.706, 55.418, 54.99, 54.998, 54.978, 54.5, 55.414, 55.08, 55.06, 54.938, 54.782, 55.068, 54.786, 55.388, 54.376, 55.052, 55.334, 54.838, 55.13, 54.91, 53.97, 55.186, 54.986, 54.818, 54.6, 54.93, 53.51, 54.942, 54.348, 54.648, 54.7, 54.502, 54.704, 54.75, 53.758, 54.9, 54.556, 54.086, 54.264, 55.082, 54.77, 55.608, 54.536, 54.832, 54.302, 53.966, 54.526, 54.39, 54.812, 54.66, 54.382, 54.996, 54.394, 55.368, 55.426, 54.972, 55.152, 54.876, 54.856, 55.04, 55.408, 54.07, 54.73, 54.566, 55.1, 54.718, 55.5, 55.066, 54.474, 54.776, 54.786, 54.366, 55.698, 54.61, 55.334, 54.798, 54.358, 55.042, 55.654, 55.744, 54.642, 53.9, 53.962, 55.372, 54.39, 54.38, 54.718, 54.564, 55.074, 54.132, 55.402, 54.874, 54.576, 53.912, 55.626, 54.106, 54.408, 54.692, 54.938, 54.136, 55.016, 54.446, 53.862, 54.158, 54.502, 55.058, 54.018, 55.04, 54.348, 54.542, 54.278, 55.02, 54.376, 55.112, 55.166, 55.646, 55.174, 54.784, 54.576, 55.43, 54.866, 54.766, 54.748, 55.35, 54.922, 55.266, 54.384, 55.694, 54.73, 54.238, 55.812, 54.89, 53.752, 54.604, 54.878, 55.47, 54.91, 55.288, 55.036, 53.468, 54.564, 54.768, 55.092, 54.672, 55.95, 54.702, 55.212, 54.71, 55.11, 54.37, 54.696, 56.09, 55.336, 55.374, 54.208, 55.208, 55.044, 54.854, 55.654, 55.428, 55.098, 54.198, 55.246, 55.276, 54.958, 56.012, 55.192, 55.062, 54.638, 55.254, 54.91, 54.966, 55.074, 55.606, 54.83, 55.322, 55.41, 53.96, 54.674, 55.438, 54.536, 54.27, 55.218, 54.604, 54.73, 54.57, 54.862, 54.698, 55.452, 55.138, 55.346, 54.46, 54.606, 55.54, 56.158, 55.046, 54.714, 54.858, 55.038, 54.818, 54.518, 54.96, 54.692, 54.67, 55.46, 54.944, 55.09, 54.614, 54.986, 54.402, 54.572, 55.384, 54.866, 55.198, 54.876, 55.222, 55.444, 54.964, 55.496, 54.32, 55.668, 54.518, 55.352, 54.338, 54.584, 54.876, 54.164, 54.548, 55.204, 55.328, 56.022, 54.644, 54.918, 55.116, 54.784, 55.138, 53.85, 54.85, 54.396, 54.098, 54.892, 54.398, 54.864, 54.252, 54.48, 54.78, 53.842, 54.876, 55.95, 55.288, 54.816, 54.868, 55.284, 55.02, 54.192, 55.294, 55.528, 55.22, 55.526, 54.716, 54.582, 54.174, 54.982, 54.666, 55.432, 55.014, 54.346, 53.998, 55.394, 54.022, 55.158, 54.892, 54.586, 54.748, 55.72, 54.824, 54.834, 54.018, 54.278, 54.816, 54.71, 54.308, 55.098, 54.768, 55.396, 55.746, 55.896, 54.524, 55.158, 54.512, 55.456, 55.076, 54.774, 54.356, 55.742, 55.682, 54.734, 54.91, 55.188, 54.494, 54.198, 54.712, 54.99, 55.048, 54.218, 55.884, 54.674, 55.402, 54.696, 54.988, 55.104, 55.348, 54.378, 54.828, 55.066, 54.682, 55.038, 54.4, 54.72, 54.436, 54.254, 54.854, 55.18, 55.844, 54.774, 54.88, 54.91, 54.686, 54.698, 55.246, 55.618, 54.258, 54.848, 54.958, 53.64, 55.132, 55.104, 54.614, 54.35, 55.264, 54.748, 54.628, 54.546, 54.72, 55.876, 54.658, 55.902, 54.584, 54.636, 54.646, 53.416, 55.336, 54.612, 55.284, 54.702, 55.142, 54.498, 55.68, 54.528, 54.24, 54.062, 55.046, 54.354, 55.746, 55.254, 54.514, 54.318, 55.23, 54.572, 55.014, 55.408, 55.07, 53.962, 54.668, 54.218, 55.188, 54.8, 54.514, 54.408, 55.36, 54.986, 55.492, 54.722, 54.316, 54.538, 54.67, 54.698, 55.67, 55.356, 54.752, 54.554, 55.002, 54.762, 55.322, 54.2, 55.88, 54.872, 55.038, 54.65, 54.894, 55.314, 54.454, 54.014, 54.406, 54.376, 55.454, 54.498, 54.632, 53.75, 55.322, 54.742, 54.818, 54.31, 54.79, 54.836, 54.46, 54.126, 54.978, 54.136, 55.06, 55.192, 54.224, 54.654, 54.454, 55.096, 55.356, 54.736, 54.242, 54.274, 54.868, 54.802, 54.854, 55.816, 55.326, 54.562, 54.808, 54.514, 54.896, 55.148, 55.392, 54.312, 54.552, 54.106, 54.198, 55.342, 55.1, 54.714, 55.812, 54.516, 54.12, 54.052, 54.204, 54.686, 53.912, 55.194, 55.508, 55.262, 55.248, 55.778, 55.4, 54.626, 54.576, 54.718, 55.672, 54.716, 54.514, 55.01, 55.088, 54.978, 54.784, 54.578, 55.048, 54.858, 53.882, 55.054, 55.288, 54.84, 54.854, 54.392, 54.716, 55.036, 54.244, 54.57, 54.512, 54.1, 55.17, 54.878, 55.082, 54.89, 55.642, 55.39, 55.506, 54.866, 55.004, 54.068, 54.548, 55.34, 54.662, 54.54, 54.988, 55.438, 55.286, 55.584, 55.076, 54.67, 54.936, 55.226, 55.066, 54.59, 55.322, 53.962, 54.114, 55.394, 54.636, 55.478, 55.37, 54.672, 54.986, 54.754, 54.544, 55.032, 55.192, 55.41, 54.988, 55.062, 54.804, 55.166, 54.796, 54.89, 55.136, 55.014, 54.814, 54.676, 54.312, 54.418, 54.694, 54.576, 55.182, 55.186, 55.098, 55.62, 55.394, 55.146, 53.986, 54.714, 54.822, 54.234, 55.15, 55.136, 55.97, 55.712, 54.488, 55.138, 55.218, 54.584, 54.942, 55.04, 54.598, 55.72, 55.17, 55.096, 54.502, 54.858, 55.558, 55.342, 54.232, 55.434, 55.214, 54.35, 55.094, 54.98, 54.886, 55.064, 54.808, 55.036, 55.154, 54.366, 55.228, 54.816, 55.266, 54.698, 56.332, 55.574, 55.06, 55.304, 55.38, 54.878, 54.872, 54.852, 55.542, 55.908, 54.406, 54.83, 54.57, 54.424, 55.044, 54.832, 54.422, 55.124, 54.332, 54.618, 54.928, 54.686, 54.242, 55.984, 54.318, 55.174, 54.68, 54.512, 55.634, 55.264, 54.878, 55.226, 54.37, 55.082, 54.886, 54.37, 55.43, 54.66, 54.806, 54.472, 55.392, 55.44, 55.338, 55.45, 54.448, 55.73, 55.702, 54.948, 54.106, 55.122, 54.574, 54.566, 55.396, 54.754, 55.28, 54.848, 54.63, 54.7, 54.728, 54.982, 54.412, 54.206, 54.464, 54.506, 54.548, 54.266, 55.154, 54.4, 54.108, 54.848, 55.102, 55.018, 54.538, 54.406, 54.278, 54.66, 54.636, 55.208, 54.556, 54.226, 54.82, 54.834, 54.58, 54.62, 54.986, 55.246, 55.182, 54.4, 54.526, 54.702, 54.414, 55.606, 55.154, 54.77, 55.692, 54.932, 55.688, 54.93, 55.226, 54.242, 54.692, 54.018, 55.316, 54.824, 54.86, 54.75, 54.882, 55.17, 54.31, 55.024, 54.326, 55.93, 54.372, 54.768, 55.6, 54.012, 53.892, 53.854, 54.802, 54.154, 54.234, 54.994, 54.812, 54.648, 55.18, 55.036, 54.74, 55.638, 54.784, 54.968, 53.974, 55.448, 54.668, 54.41, 55.504, 54.858, 55.274, 55.062, 54.844, 54.294, 54.738, 54.314, 55.042, 55.054, 55.148, 55.244, 55.198, 54.12, 54.798, 55.052, 56.528, 55.106, 54.584, 54.726, 54.712, 53.87, 54.778, 54.842, 54.826, 55.332, 53.944, 55.212, 54.578, 54.718, 55.102, 55.506, 54.626, 54.936, 54.522, 54.61, 55.254, 54.862, 54.406, 55.012, 54.89, 55.112, 54.966]\n"
     ]
    }
   ],
   "source": [
    "mean_popularity_2000_samp = []\n",
    "\n",
    "# Generate a sampling distribution of 2000 replicates\n",
    "for i in range(2000):\n",
    "    mean_popularity_2000_samp.append(\n",
    "        # Sample 500 rows and calculate the mean popularity     \n",
    "        spotify_population.sample(n=500)['popularity'].mean()\n",
    "    )\n",
    "\n",
    "# Print the sampling distribution results\n",
    "print(mean_popularity_2000_samp)"
   ]
  },
  {
   "cell_type": "code",
   "execution_count": 15,
   "id": "814e4d55",
   "metadata": {},
   "outputs": [
    {
     "name": "stdout",
     "output_type": "stream",
     "text": [
      "[54.408, 54.916, 55.514, 54.63, 55.294, 54.972, 55.256, 55.184, 54.77, 54.97, 55.848, 55.246, 54.958, 55.254, 54.908, 55.112, 55.196, 56.39, 55.618, 54.228, 55.148, 55.302, 54.656, 55.478, 55.056, 55.224, 54.972, 55.532, 55.112, 54.476, 54.856, 55.01, 55.148, 54.392, 54.312, 54.974, 54.794, 55.758, 55.512, 55.26, 54.664, 54.722, 55.876, 54.73, 55.13, 55.438, 55.366, 54.012, 54.454, 55.788, 54.622, 54.734, 54.646, 54.796, 54.92, 55.18, 54.658, 55.532, 55.304, 54.66, 55.4, 55.192, 55.586, 56.066, 55.006, 54.97, 55.504, 54.384, 54.8, 55.122, 54.848, 55.818, 54.364, 54.702, 55.454, 55.122, 54.788, 55.578, 55.42, 55.722, 55.428, 54.822, 55.342, 54.896, 55.28, 54.794, 54.212, 55.346, 55.288, 54.888, 54.976, 54.414, 55.304, 55.568, 54.756, 54.986, 55.336, 54.72, 55.144, 56.014, 54.402, 54.166, 55.21, 54.688, 55.246, 54.798, 55.018, 54.52, 55.888, 55.386, 55.216, 54.748, 55.01, 55.836, 54.816, 54.21, 55.126, 55.436, 55.164, 55.596, 54.082, 55.548, 54.894, 55.896, 54.682, 54.48, 55.366, 55.124, 54.948, 54.586, 55.798, 55.432, 55.606, 55.074, 55.094, 55.382, 54.184, 55.212, 55.24, 55.318, 55.46, 55.304, 54.702, 55.654, 54.734, 54.314, 55.276, 54.674, 55.0, 55.3, 54.822, 54.848, 55.43, 54.43, 55.37, 55.748, 54.83, 56.138, 54.246, 55.878, 54.668, 55.758, 54.976, 54.074, 53.922, 55.194, 55.296, 55.348, 54.8, 54.694, 55.438, 56.14, 55.116, 55.532, 54.93, 55.39, 54.988, 55.844, 54.238, 55.2, 54.23, 55.594, 54.528, 54.65, 54.112, 55.148, 54.86, 54.726, 54.94, 55.374, 53.928, 53.882, 56.028, 54.75, 55.918, 55.454, 55.112, 55.252, 55.628, 54.388, 54.724, 54.46, 55.09, 54.236, 55.176, 55.384, 54.406, 54.33, 56.202, 55.164, 54.97, 55.102, 53.964, 54.024, 54.428, 54.412, 55.19, 55.292, 54.306, 55.442, 54.32, 54.82, 55.328, 55.24, 55.406, 54.85, 55.68, 55.708, 55.658, 55.224, 54.998, 54.682, 55.488, 55.69, 55.128, 54.89, 55.066, 54.35, 54.012, 55.022, 54.894, 54.61, 54.334, 54.692, 55.056, 55.226, 54.266, 54.256, 55.868, 54.134, 55.41, 55.206, 55.128, 55.288, 55.058, 55.208, 55.296, 54.282, 54.842, 55.142, 55.312, 54.788, 55.572, 55.804, 53.744, 54.92, 54.598, 54.778, 54.762, 55.272, 54.722, 55.274, 55.33, 54.808, 54.578, 54.98, 54.742, 55.582, 55.014, 54.51, 55.538, 54.776, 55.034, 54.056, 54.572, 54.982, 55.556, 54.58, 55.338, 55.39, 54.522, 54.064, 54.138, 54.77, 55.828, 53.57, 55.446, 55.164, 54.276, 55.276, 54.196, 55.27, 55.762, 55.35, 55.224, 54.932, 55.676, 54.872, 54.546, 54.986, 55.722, 55.424, 54.598, 56.222, 54.378, 55.194, 54.734, 55.738, 54.726, 54.292, 54.634, 55.546, 55.14, 55.072, 55.02, 54.302, 55.066, 54.692, 55.096, 55.392, 55.212, 55.424, 55.246, 55.306, 55.388, 54.904, 55.422, 54.092, 54.592, 55.102, 55.496, 55.326, 55.298, 55.718, 54.778, 54.906, 55.108, 54.928, 55.554, 55.758, 54.576, 54.794, 54.85, 54.538, 54.912, 54.82, 55.31, 54.844, 54.958, 54.896, 54.992, 55.506, 54.57, 55.516, 54.58, 54.49, 54.424, 54.044, 54.582, 54.992, 54.866, 54.614, 55.476, 54.704, 54.244, 54.946, 55.19, 54.884, 54.616, 55.786, 55.924, 54.652, 54.262, 55.012, 54.894, 54.242, 55.426, 55.16, 54.484, 54.67, 54.792, 55.124, 54.676, 56.01, 55.188, 55.718, 54.822, 55.184, 54.728, 54.408, 55.26, 55.506, 55.154, 54.346, 55.524, 54.848, 55.486, 55.204, 55.198, 54.898, 54.898, 55.038, 54.954, 54.982, 55.03, 54.77, 54.74, 55.782, 55.3, 54.458, 55.536, 54.698, 54.512, 54.782, 55.802, 55.124, 55.91, 55.592, 56.062, 55.23, 55.508, 55.082, 55.676, 55.412, 54.664, 54.89, 54.752, 54.806, 55.61, 54.398, 55.084, 55.03, 54.582, 54.7, 54.7, 54.546, 55.226, 55.254, 55.634, 54.364, 54.278, 54.87, 55.592, 55.054, 55.384, 55.12, 56.02, 55.222, 54.888, 54.642, 54.834, 55.532, 54.446, 55.188, 56.31, 54.79, 55.426, 53.948, 55.424, 55.642, 54.474, 54.564, 55.26, 55.278, 54.912, 55.692, 54.228, 54.474, 54.09, 54.804, 54.974, 55.12, 55.058, 54.6, 54.6, 55.04, 55.342, 55.07, 55.492, 54.716, 54.968, 56.31, 54.352, 55.45, 54.9, 54.664, 54.574, 54.978, 55.028, 55.188, 54.888, 55.336, 54.968, 55.27, 55.104, 54.998, 54.796, 54.884, 55.442, 55.742, 55.954, 53.626, 54.896, 55.954, 54.122, 55.13, 55.218, 54.924, 54.658, 54.444, 54.2, 54.836, 55.194, 54.636, 54.032, 55.656, 54.722, 56.07, 54.656, 55.49, 55.388, 55.67, 54.762, 55.958, 54.96, 55.142, 54.934, 54.772, 54.608, 53.882, 55.92, 55.406, 55.6, 55.586, 55.216, 54.664, 55.718, 55.734, 55.516, 54.812, 55.752, 54.118, 54.586, 54.972, 55.452, 54.414, 54.888, 54.824, 54.968, 54.408, 54.506, 55.168, 54.41, 55.138, 55.182, 54.778, 55.04, 55.24, 54.292, 55.464, 55.514, 55.004, 55.228, 54.72, 55.248, 54.85, 54.334, 55.252, 54.594, 54.088, 55.036, 56.226, 54.714, 54.61, 55.712, 54.956, 55.674, 55.854, 55.728, 54.92, 54.73, 54.852, 54.132, 54.614, 55.524, 55.166, 55.102, 55.06, 55.394, 54.824, 55.35, 55.546, 54.556, 55.396, 55.234, 55.402, 54.114, 54.95, 54.146, 55.188, 54.586, 55.812, 55.868, 55.572, 54.734, 54.87, 55.796, 55.4, 55.268, 54.2, 55.198, 55.448, 55.512, 55.202, 55.606, 55.134, 55.584, 54.79, 54.842, 54.344, 55.098, 55.352, 54.754, 54.856, 55.042, 56.058, 54.438, 55.162, 55.34, 55.0, 55.622, 54.274, 54.876, 54.95, 54.83, 54.89, 54.752, 54.622, 55.35, 55.49, 55.208, 55.314, 55.79, 55.228, 55.116, 55.582, 55.888, 55.186, 54.418, 54.866, 55.18, 54.964, 55.592, 55.086, 54.71, 55.266, 54.684, 54.54, 55.024, 54.014, 54.552, 55.254, 54.58, 54.976, 55.054, 54.94, 55.294, 54.25, 55.726, 54.192, 55.376, 54.616, 55.796, 55.336, 55.808, 54.508, 54.482, 54.844, 55.548, 55.608, 55.222, 54.504, 54.986, 55.43, 54.748, 55.34, 54.36, 54.942, 54.382, 55.662, 55.292, 54.954, 54.4, 55.034, 55.052, 55.348, 55.26, 55.41, 55.636, 54.934, 54.446, 54.928, 54.692, 55.276, 54.642, 54.17, 54.758, 55.018, 55.642, 55.134, 54.55, 54.414, 54.19, 54.634, 54.784, 54.672, 54.138, 55.278, 55.536, 54.416, 55.44, 55.176, 55.434, 55.22, 55.028, 54.782, 55.272, 55.234, 54.888, 55.804, 54.902, 54.182, 54.834, 54.646, 54.374, 54.336, 54.958, 54.738, 54.678, 54.246, 55.358, 54.77, 55.598, 55.26, 55.236, 54.92, 54.928, 55.338, 54.534, 54.608, 54.524, 54.538, 55.356, 54.982, 55.056, 54.204, 55.108, 55.066, 54.844, 54.814, 54.6, 55.29, 55.478, 55.016, 54.664, 54.942, 55.16, 55.504, 54.302, 55.136, 55.258, 55.756, 55.606, 55.536, 55.314, 55.418, 54.952, 54.794, 55.336, 55.126, 54.734, 55.338, 54.358, 54.92, 55.216, 54.288, 55.962, 55.63, 54.526, 54.592, 54.372, 54.826, 54.972, 55.208, 55.04, 54.752, 55.598, 55.488, 55.534, 54.496, 55.124, 55.62, 55.416, 55.096, 55.38, 55.822, 54.938, 54.048, 54.59, 55.38, 54.36, 55.078, 55.484, 54.36, 56.066, 55.036, 55.132, 55.492, 55.084, 55.254, 55.166, 54.908, 55.032, 55.586, 54.664, 55.538, 54.932, 55.348, 55.84, 55.672, 54.34, 55.218, 55.006, 54.584, 55.182, 54.966, 54.84, 54.782, 55.7, 55.592, 55.56, 55.848, 55.36, 54.522, 55.36, 54.728, 55.768, 55.284, 54.886, 55.048, 54.784, 55.596, 54.9, 54.584, 54.35, 55.298, 55.282, 54.32, 55.08, 54.928, 55.184, 54.224, 55.12, 55.614, 54.734, 54.292, 54.57, 54.686, 54.98, 55.1, 54.762, 53.472, 54.95, 54.936, 55.512, 55.354, 54.436, 55.438, 55.094, 55.636, 54.038, 55.4, 55.302, 55.146, 55.218, 54.068, 55.408, 54.702, 54.66, 55.086, 55.814, 55.374, 54.568, 54.768, 55.756, 54.852, 55.372, 54.836, 54.784, 54.872, 55.192, 54.456, 55.02, 55.792, 54.308, 54.748, 55.276, 55.298, 54.93, 55.31, 54.12, 56.19, 55.534, 54.866, 55.638, 55.116, 55.014, 54.424, 55.17, 54.214, 55.262, 54.596, 54.852, 55.12, 54.484, 55.282, 54.468, 54.576, 54.854, 54.778, 54.42, 56.04, 54.142, 55.074, 54.876, 55.364, 54.078, 54.96, 54.982, 54.546, 55.052, 55.356, 54.298, 55.472, 55.368, 54.744, 55.072, 54.718, 55.25, 55.602, 55.392, 55.0, 55.334, 54.5, 54.58, 55.118, 54.36, 55.05, 55.484, 54.882, 55.294, 54.532, 55.104, 55.362, 54.302, 54.732, 55.708, 54.764, 54.704, 55.432, 55.296, 54.958, 55.296, 54.616, 54.774, 55.11, 54.55, 55.24, 54.526, 55.092, 56.056, 55.572, 54.898, 55.038, 55.084, 54.944, 54.836, 54.742, 55.646, 55.026, 55.7, 54.384, 55.016, 54.712, 54.82, 54.432, 55.554, 55.342, 55.706, 54.796, 56.238, 55.076, 55.124, 55.266, 55.51, 54.728, 55.06, 56.494, 54.334, 54.93, 55.19, 54.94, 55.768, 55.348, 54.936, 54.902, 55.28, 54.648, 54.888, 54.984, 55.014, 55.636, 55.492, 55.372, 54.254, 54.584, 55.77, 55.422, 54.724, 55.422, 55.094, 55.56, 54.476, 55.01, 55.162, 56.088, 55.232, 55.31, 54.956, 55.604, 54.272, 54.596, 54.626, 55.704, 54.556, 55.138, 54.724, 54.992, 55.022, 54.814, 55.626, 55.746, 54.612, 55.04, 54.396, 55.624, 54.488, 54.31, 54.826, 54.514, 54.638, 55.934, 54.52, 55.664, 55.5, 55.12, 54.78, 54.77, 55.22, 54.604, 54.046, 55.038, 54.744, 55.22, 54.328, 55.1, 55.164, 54.784, 54.52, 54.452, 54.996, 55.298, 55.332, 55.424, 55.368, 54.858, 55.108, 55.664, 55.924, 55.112, 55.548, 55.012, 53.832, 55.374, 55.852, 54.428, 55.64, 54.936, 54.15, 55.034, 54.628, 55.342, 54.57, 53.698, 55.442, 55.22, 55.254, 54.976, 54.516, 54.696, 55.434, 55.694, 55.252, 55.62, 55.37, 54.596, 54.216, 55.402, 55.252, 55.522, 55.682, 55.052, 54.47, 54.564, 54.418, 54.296, 54.738, 54.898, 55.668, 55.692, 55.252, 54.816, 54.908, 55.362, 54.612, 54.708, 55.118, 54.16, 54.982, 55.18, 55.244, 55.336, 55.218, 55.472, 54.166, 54.98, 55.254, 55.772, 54.562, 54.794, 54.846, 55.574, 54.14, 54.258, 54.706, 55.26, 55.016, 53.956, 54.938, 55.102, 55.33, 54.682, 54.83, 54.186, 54.804, 56.488, 54.676, 55.338, 54.518, 54.81, 54.874, 54.352, 55.15, 55.758, 54.62, 55.008, 55.244, 55.35, 55.758, 54.336, 55.094, 54.856, 55.536, 55.172, 54.83, 55.45, 55.372, 54.196, 54.56, 55.094, 54.566, 54.12, 55.256, 54.646, 54.03, 54.93, 55.556, 55.144, 53.842, 54.55, 55.412, 54.406, 55.16, 55.156, 54.804, 55.568, 54.764, 55.95, 55.646, 54.934, 55.32, 55.184, 55.034, 55.498, 55.91, 55.368, 54.668, 54.758, 55.194, 54.282, 55.04, 55.066, 55.494, 54.71, 54.636, 54.886, 54.756, 54.85, 55.13, 55.08, 55.004, 54.56, 55.132, 55.246, 54.808, 55.388, 54.048, 54.43, 54.836, 53.984, 55.268, 54.358, 55.29, 55.144, 54.708, 56.012, 55.184, 54.69, 55.532, 55.596, 55.304, 54.162, 56.278, 54.858, 54.426, 55.808, 55.05, 55.1, 54.41, 54.918, 55.55, 55.124, 55.202, 55.142, 54.836, 55.508, 54.64, 54.488, 54.776, 54.618, 55.188, 54.516, 54.294, 54.666, 55.792, 54.774, 55.456, 54.636, 55.004, 55.268, 54.828, 54.95, 54.734, 55.352, 54.686, 54.438, 55.174, 55.256, 54.62, 55.638, 54.522, 54.162, 54.746, 54.842, 55.024, 54.988, 54.836, 55.092, 55.45, 54.82, 55.064, 55.476, 55.43, 55.256, 55.848, 55.176, 54.608, 54.934, 55.052, 54.786, 54.33, 55.912, 55.604, 53.058, 54.796, 54.842, 54.638, 55.094, 54.49, 55.13, 55.298, 54.698, 54.7, 55.012, 55.072, 54.836, 54.62, 56.574, 54.644, 55.422, 55.356, 54.95, 54.892, 54.88, 55.042, 54.714, 55.634, 55.296, 55.526, 55.614, 54.834, 54.478, 55.39, 55.17, 55.386, 55.216, 55.188, 55.128, 55.034, 54.838, 55.0, 54.64, 54.348, 54.726, 54.856, 54.718, 54.156, 54.988, 53.788, 55.078, 55.052, 55.556, 54.738, 54.734, 54.638, 55.882, 54.558, 54.732, 54.344, 54.676, 54.476, 55.944, 55.36, 54.184, 54.994, 55.41, 54.936, 54.758, 54.822, 54.618, 54.784, 55.234, 56.204, 54.524, 55.498, 53.914, 54.984, 55.512, 54.698, 54.804, 54.214, 54.856, 54.404, 56.05, 55.284, 54.968, 54.622, 54.164, 55.17, 55.096, 54.754, 54.686, 54.378, 55.034, 54.27, 55.264, 55.112, 54.654, 54.388, 54.714, 55.132, 55.136, 55.592, 53.908, 55.128, 54.762, 55.134, 54.988, 55.438, 55.404, 55.322, 55.198, 55.29, 54.776, 54.802, 54.48, 55.388, 54.014, 54.858, 55.238, 54.866, 54.998, 54.284, 54.656, 55.07, 54.712, 55.098, 55.22, 55.14, 54.316, 55.068, 55.792, 55.2, 55.038, 55.038, 55.412, 55.772, 54.896, 55.468, 55.066, 56.118, 55.192, 54.266, 54.854, 54.872, 54.764, 55.176, 54.342, 53.972, 55.184, 55.152, 54.452, 55.52, 55.044, 55.848, 54.142, 54.694, 54.458, 53.958, 54.74, 55.374, 54.844, 54.728, 54.92, 54.794, 55.84, 55.514, 54.634, 55.518, 55.49, 54.394, 56.098, 55.04, 55.202, 54.742, 54.126, 55.048, 54.958, 54.932, 54.744, 54.752, 55.58, 55.83, 56.286, 54.596, 54.284, 54.95, 55.556, 54.312, 55.492, 54.814, 54.846, 54.724, 54.724, 54.698, 55.254, 54.632, 54.86, 54.38, 54.906, 54.658, 55.018, 55.144, 55.11, 54.934, 54.594, 55.022, 55.79, 54.408, 54.56, 55.294, 54.418, 55.58, 54.298, 55.246, 55.224, 55.316, 55.516, 55.802, 54.864, 54.73, 54.42, 56.066, 55.054, 55.176, 54.842, 55.168, 54.204, 55.45, 55.138, 55.134, 55.33, 55.398, 55.138, 55.5, 54.68, 55.106, 55.272, 55.074, 54.722, 53.75, 55.132, 55.248, 55.144, 54.724, 55.994, 54.794, 54.81, 55.238, 55.212, 55.3, 54.252, 54.734, 54.894, 54.658, 54.074, 54.942, 55.242, 55.098, 55.27, 55.202, 55.1, 55.264, 54.648, 54.448, 54.022, 55.296, 55.456, 54.886, 54.196, 55.16, 54.778, 54.978, 54.64, 54.5, 54.348, 54.492, 55.342, 55.876, 54.936, 54.014, 54.232, 54.654, 55.206, 55.116, 56.076, 54.89, 54.742, 54.97, 55.794, 55.082, 54.462, 55.202, 55.07, 54.53, 55.39, 54.406, 55.354, 54.782, 54.712, 55.44, 54.666, 54.55, 54.516, 55.236, 55.272, 55.542, 54.444, 54.946, 54.694, 55.258, 54.996, 54.37, 54.726, 55.408, 54.808, 55.668, 55.672, 54.804, 55.154, 55.04, 54.912, 54.488, 54.638, 55.314, 54.356, 54.918, 55.22, 54.846, 54.738, 55.35, 54.246, 54.872, 55.344, 54.97, 54.976, 54.918, 54.608, 55.604, 54.916, 55.682, 55.306, 55.108, 55.036, 54.668, 55.044, 55.128, 54.088, 55.04, 55.45, 55.972, 55.538, 54.17, 55.026, 54.736, 55.156, 54.996, 54.986, 54.334, 54.832, 54.62, 54.516, 54.468, 55.156, 55.09, 55.574, 54.464, 54.998, 54.904, 55.5, 55.304, 54.61, 54.614, 54.964, 55.202, 54.61, 54.9, 54.868, 54.282, 54.752, 55.166, 54.336, 55.44, 55.094, 54.57, 55.854, 55.142, 55.346, 55.634, 55.252, 55.086, 54.88, 54.792, 55.39, 54.924, 54.838, 54.706, 54.546, 55.412, 55.486, 54.908, 54.862, 55.896, 54.68, 54.392, 54.37, 55.554, 55.74, 55.458, 54.858, 55.382, 55.944, 55.16, 55.138, 54.266, 55.406, 54.748, 55.028, 54.306, 55.176, 54.158, 54.394, 54.532, 55.046, 54.81, 55.03, 55.406, 55.224, 54.776, 55.046, 54.628, 55.19, 55.236, 55.392, 55.336, 54.962, 54.934, 55.244, 55.662, 54.538, 54.832, 55.116, 55.32, 54.6, 54.834, 54.928, 54.94, 54.62, 55.296, 55.198, 55.13, 55.214, 55.514, 55.166, 54.762, 55.784, 55.258, 54.362, 54.432, 54.792, 55.07, 54.54, 54.424, 55.136, 55.776, 54.944, 56.116, 55.726, 54.282, 55.044, 54.422, 54.924, 55.238, 54.632, 55.324, 55.144, 56.036, 54.544, 55.398, 54.668, 54.004, 55.526, 54.274, 55.406, 54.682, 54.676, 54.864, 54.398, 55.334, 55.894, 54.718, 54.572, 54.342, 55.062, 55.028, 54.242, 55.698, 54.682, 55.418, 55.936, 54.922, 55.096, 54.65, 54.892, 54.512, 55.304, 54.662, 54.884, 55.054, 55.224, 54.688, 55.212, 55.384, 54.546, 54.694, 56.024, 54.896, 54.826, 55.284, 54.318, 54.384, 55.0, 54.198, 55.086, 54.948, 55.02, 55.096, 55.3, 55.63, 55.744, 54.334, 55.144, 54.752, 54.792, 54.54, 54.966, 55.346, 54.932, 54.872, 54.734, 55.334, 55.446, 56.064, 55.22, 54.9, 54.24, 54.918, 54.86, 54.838, 55.47, 54.912, 54.772, 55.036, 55.424, 55.04, 55.068, 55.448, 54.942, 55.29, 55.666, 54.642, 55.158, 54.562, 54.604, 55.7, 55.166, 55.542, 55.042, 55.356, 54.046, 55.052, 55.328, 54.79, 54.406, 54.984, 55.606, 54.968, 54.904, 55.542, 55.91, 54.764, 54.24, 54.87, 54.678, 54.204, 54.904, 54.2, 54.618, 55.314, 55.024, 54.342, 54.48, 54.536, 54.18, 55.816, 54.606, 54.518, 55.716, 54.958, 55.692, 54.782, 53.552, 54.536, 55.506, 55.256, 54.348, 54.784, 54.846, 54.798, 54.946, 54.776, 54.272, 54.82, 55.18, 55.132, 54.496, 54.954, 55.298, 55.022, 55.938, 55.946, 54.862, 54.628, 55.062, 54.666, 54.644, 53.62, 54.538, 55.394, 54.62, 54.772, 54.728, 54.944, 54.942, 54.772, 54.992, 55.39, 55.048, 54.482, 55.14, 55.282, 55.536, 55.378, 54.988, 54.91, 55.076, 54.678, 54.808, 54.762, 55.656, 55.138, 54.54, 56.09, 54.178, 55.456, 54.74, 55.452, 54.662, 55.014, 55.226, 54.99, 55.274, 55.396, 55.52, 54.868, 55.6, 55.616, 54.9, 54.226, 55.12, 55.628, 55.436, 55.296, 55.13, 55.15, 55.196, 54.854, 54.352, 55.17, 55.328]\n"
     ]
    }
   ],
   "source": [
    "mean_popularity_2000_boot = []\n",
    "\n",
    "# Generate a bootstrap distribution of 2000 replicates\n",
    "for i in range(2000):\n",
    "    mean_popularity_2000_boot.append(\n",
    "    # Resample 500 rows and calculate the mean popularity\n",
    "     spotify_sample.sample(n=500, replace=True)['popularity'].mean()\n",
    "    )\n",
    "\n",
    "# Print the bootstrap distribution results\n",
    "print(mean_popularity_2000_boot)"
   ]
  }
 ],
 "metadata": {
  "kernelspec": {
   "display_name": "Python 3 (ipykernel)",
   "language": "python",
   "name": "python3"
  },
  "language_info": {
   "codemirror_mode": {
    "name": "ipython",
    "version": 3
   },
   "file_extension": ".py",
   "mimetype": "text/x-python",
   "name": "python",
   "nbconvert_exporter": "python",
   "pygments_lexer": "ipython3",
   "version": "3.9.12"
  }
 },
 "nbformat": 4,
 "nbformat_minor": 5
}
